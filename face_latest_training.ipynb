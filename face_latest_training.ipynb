{
  "nbformat": 4,
  "nbformat_minor": 0,
  "metadata": {
    "kernelspec": {
      "display_name": "Python 3",
      "language": "python",
      "name": "python3"
    },
    "colab": {
      "name": "face_latest_training.ipynb",
      "provenance": [],
      "collapsed_sections": []
    },
    "widgets": {
      "application/vnd.jupyter.widget-state+json": {
        "581ee01b23d146a0adf6b49831454ce1": {
          "model_module": "@jupyter-widgets/controls",
          "model_name": "HBoxModel",
          "state": {
            "_view_name": "HBoxView",
            "_dom_classes": [],
            "_model_name": "HBoxModel",
            "_view_module": "@jupyter-widgets/controls",
            "_model_module_version": "1.5.0",
            "_view_count": null,
            "_view_module_version": "1.5.0",
            "box_style": "",
            "layout": "IPY_MODEL_3b6813591ee84bb7b96c8686868f7d7b",
            "_model_module": "@jupyter-widgets/controls",
            "children": [
              "IPY_MODEL_1cb2f626c9954bff8f4236e1f871b6e5",
              "IPY_MODEL_7e917ebdff6441e6bb3ce05ed6bcf510"
            ]
          }
        },
        "3b6813591ee84bb7b96c8686868f7d7b": {
          "model_module": "@jupyter-widgets/base",
          "model_name": "LayoutModel",
          "state": {
            "_view_name": "LayoutView",
            "grid_template_rows": null,
            "right": null,
            "justify_content": null,
            "_view_module": "@jupyter-widgets/base",
            "overflow": null,
            "_model_module_version": "1.2.0",
            "_view_count": null,
            "flex_flow": null,
            "width": null,
            "min_width": null,
            "border": null,
            "align_items": null,
            "bottom": null,
            "_model_module": "@jupyter-widgets/base",
            "top": null,
            "grid_column": null,
            "overflow_y": null,
            "overflow_x": null,
            "grid_auto_flow": null,
            "grid_area": null,
            "grid_template_columns": null,
            "flex": null,
            "_model_name": "LayoutModel",
            "justify_items": null,
            "grid_row": null,
            "max_height": null,
            "align_content": null,
            "visibility": null,
            "align_self": null,
            "height": null,
            "min_height": null,
            "padding": null,
            "grid_auto_rows": null,
            "grid_gap": null,
            "max_width": null,
            "order": null,
            "_view_module_version": "1.2.0",
            "grid_template_areas": null,
            "object_position": null,
            "object_fit": null,
            "grid_auto_columns": null,
            "margin": null,
            "display": null,
            "left": null
          }
        },
        "1cb2f626c9954bff8f4236e1f871b6e5": {
          "model_module": "@jupyter-widgets/controls",
          "model_name": "FloatProgressModel",
          "state": {
            "_view_name": "ProgressView",
            "style": "IPY_MODEL_cdf63e81cd05412cabb43c3b19d16f52",
            "_dom_classes": [],
            "description": "100%",
            "_model_name": "FloatProgressModel",
            "bar_style": "success",
            "max": 111898327,
            "_view_module": "@jupyter-widgets/controls",
            "_model_module_version": "1.5.0",
            "value": 111898327,
            "_view_count": null,
            "_view_module_version": "1.5.0",
            "orientation": "horizontal",
            "min": 0,
            "description_tooltip": null,
            "_model_module": "@jupyter-widgets/controls",
            "layout": "IPY_MODEL_eace41ec2436484db15f244f3dd43552"
          }
        },
        "7e917ebdff6441e6bb3ce05ed6bcf510": {
          "model_module": "@jupyter-widgets/controls",
          "model_name": "HTMLModel",
          "state": {
            "_view_name": "HTMLView",
            "style": "IPY_MODEL_2efee737d22342e884e86ef318a36c52",
            "_dom_classes": [],
            "description": "",
            "_model_name": "HTMLModel",
            "placeholder": "​",
            "_view_module": "@jupyter-widgets/controls",
            "_model_module_version": "1.5.0",
            "value": " 107M/107M [00:03&lt;00:00, 28.4MB/s]",
            "_view_count": null,
            "_view_module_version": "1.5.0",
            "description_tooltip": null,
            "_model_module": "@jupyter-widgets/controls",
            "layout": "IPY_MODEL_549fffde2f724fdda8600383115cb91b"
          }
        },
        "cdf63e81cd05412cabb43c3b19d16f52": {
          "model_module": "@jupyter-widgets/controls",
          "model_name": "ProgressStyleModel",
          "state": {
            "_view_name": "StyleView",
            "_model_name": "ProgressStyleModel",
            "description_width": "initial",
            "_view_module": "@jupyter-widgets/base",
            "_model_module_version": "1.5.0",
            "_view_count": null,
            "_view_module_version": "1.2.0",
            "bar_color": null,
            "_model_module": "@jupyter-widgets/controls"
          }
        },
        "eace41ec2436484db15f244f3dd43552": {
          "model_module": "@jupyter-widgets/base",
          "model_name": "LayoutModel",
          "state": {
            "_view_name": "LayoutView",
            "grid_template_rows": null,
            "right": null,
            "justify_content": null,
            "_view_module": "@jupyter-widgets/base",
            "overflow": null,
            "_model_module_version": "1.2.0",
            "_view_count": null,
            "flex_flow": null,
            "width": null,
            "min_width": null,
            "border": null,
            "align_items": null,
            "bottom": null,
            "_model_module": "@jupyter-widgets/base",
            "top": null,
            "grid_column": null,
            "overflow_y": null,
            "overflow_x": null,
            "grid_auto_flow": null,
            "grid_area": null,
            "grid_template_columns": null,
            "flex": null,
            "_model_name": "LayoutModel",
            "justify_items": null,
            "grid_row": null,
            "max_height": null,
            "align_content": null,
            "visibility": null,
            "align_self": null,
            "height": null,
            "min_height": null,
            "padding": null,
            "grid_auto_rows": null,
            "grid_gap": null,
            "max_width": null,
            "order": null,
            "_view_module_version": "1.2.0",
            "grid_template_areas": null,
            "object_position": null,
            "object_fit": null,
            "grid_auto_columns": null,
            "margin": null,
            "display": null,
            "left": null
          }
        },
        "2efee737d22342e884e86ef318a36c52": {
          "model_module": "@jupyter-widgets/controls",
          "model_name": "DescriptionStyleModel",
          "state": {
            "_view_name": "StyleView",
            "_model_name": "DescriptionStyleModel",
            "description_width": "",
            "_view_module": "@jupyter-widgets/base",
            "_model_module_version": "1.5.0",
            "_view_count": null,
            "_view_module_version": "1.2.0",
            "_model_module": "@jupyter-widgets/controls"
          }
        },
        "549fffde2f724fdda8600383115cb91b": {
          "model_module": "@jupyter-widgets/base",
          "model_name": "LayoutModel",
          "state": {
            "_view_name": "LayoutView",
            "grid_template_rows": null,
            "right": null,
            "justify_content": null,
            "_view_module": "@jupyter-widgets/base",
            "overflow": null,
            "_model_module_version": "1.2.0",
            "_view_count": null,
            "flex_flow": null,
            "width": null,
            "min_width": null,
            "border": null,
            "align_items": null,
            "bottom": null,
            "_model_module": "@jupyter-widgets/base",
            "top": null,
            "grid_column": null,
            "overflow_y": null,
            "overflow_x": null,
            "grid_auto_flow": null,
            "grid_area": null,
            "grid_template_columns": null,
            "flex": null,
            "_model_name": "LayoutModel",
            "justify_items": null,
            "grid_row": null,
            "max_height": null,
            "align_content": null,
            "visibility": null,
            "align_self": null,
            "height": null,
            "min_height": null,
            "padding": null,
            "grid_auto_rows": null,
            "grid_gap": null,
            "max_width": null,
            "order": null,
            "_view_module_version": "1.2.0",
            "grid_template_areas": null,
            "object_position": null,
            "object_fit": null,
            "grid_auto_columns": null,
            "margin": null,
            "display": null,
            "left": null
          }
        }
      }
    },
    "accelerator": "GPU"
  },
  "cells": [
    {
      "cell_type": "code",
      "metadata": {
        "id": "41NOc3kvnHQb",
        "colab_type": "code",
        "colab": {
          "base_uri": "https://localhost:8080/",
          "height": 128
        },
        "outputId": "0b67f3d6-1135-4946-e831-bb5a14a65104"
      },
      "source": [
        "# Mount the google drive\n",
        "from google.colab import drive\n",
        "drive.mount('/content/drive')"
      ],
      "execution_count": 2,
      "outputs": [
        {
          "output_type": "stream",
          "text": [
            "Go to this URL in a browser: https://accounts.google.com/o/oauth2/auth?client_id=947318989803-6bn6qk8qdgf4n4g3pfee6491hc0brc4i.apps.googleusercontent.com&redirect_uri=urn%3aietf%3awg%3aoauth%3a2.0%3aoob&scope=email%20https%3a%2f%2fwww.googleapis.com%2fauth%2fdocs.test%20https%3a%2f%2fwww.googleapis.com%2fauth%2fdrive%20https%3a%2f%2fwww.googleapis.com%2fauth%2fdrive.photos.readonly%20https%3a%2f%2fwww.googleapis.com%2fauth%2fpeopleapi.readonly&response_type=code\n",
            "\n",
            "Enter your authorization code:\n",
            "··········\n",
            "Mounted at /content/drive\n"
          ],
          "name": "stdout"
        }
      ]
    },
    {
      "cell_type": "code",
      "metadata": {
        "id": "2KaXq9rfogX2",
        "colab_type": "code",
        "colab": {
          "base_uri": "https://localhost:8080/",
          "height": 345
        },
        "outputId": "7833d381-d42b-4142-bfbd-91d530c84781"
      },
      "source": [
        "!pip install torch==1.5.1+cu92 torchvision==0.6.1+cu92 -f https://download.pytorch.org/whl/torch_stable.html"
      ],
      "execution_count": 3,
      "outputs": [
        {
          "output_type": "stream",
          "text": [
            "Looking in links: https://download.pytorch.org/whl/torch_stable.html\n",
            "Collecting torch==1.5.1+cu92\n",
            "\u001b[?25l  Downloading https://download.pytorch.org/whl/cu92/torch-1.5.1%2Bcu92-cp36-cp36m-linux_x86_64.whl (604.8MB)\n",
            "\u001b[K     |████████████████████████████████| 604.8MB 29kB/s \n",
            "\u001b[?25hCollecting torchvision==0.6.1+cu92\n",
            "\u001b[?25l  Downloading https://download.pytorch.org/whl/cu92/torchvision-0.6.1%2Bcu92-cp36-cp36m-linux_x86_64.whl (6.5MB)\n",
            "\u001b[K     |████████████████████████████████| 6.5MB 64.0MB/s \n",
            "\u001b[?25hRequirement already satisfied: future in /usr/local/lib/python3.6/dist-packages (from torch==1.5.1+cu92) (0.16.0)\n",
            "Requirement already satisfied: numpy in /usr/local/lib/python3.6/dist-packages (from torch==1.5.1+cu92) (1.18.5)\n",
            "Requirement already satisfied: pillow>=4.1.1 in /usr/local/lib/python3.6/dist-packages (from torchvision==0.6.1+cu92) (7.0.0)\n",
            "Installing collected packages: torch, torchvision\n",
            "  Found existing installation: torch 1.6.0+cu101\n",
            "    Uninstalling torch-1.6.0+cu101:\n",
            "      Successfully uninstalled torch-1.6.0+cu101\n",
            "  Found existing installation: torchvision 0.7.0+cu101\n",
            "    Uninstalling torchvision-0.7.0+cu101:\n",
            "      Successfully uninstalled torchvision-0.7.0+cu101\n",
            "Successfully installed torch-1.5.1+cu92 torchvision-0.6.1+cu92\n"
          ],
          "name": "stdout"
        }
      ]
    },
    {
      "cell_type": "code",
      "metadata": {
        "id": "ia-zHJCWnYWS",
        "colab_type": "code",
        "colab": {}
      },
      "source": [
        "from torch import nn, optim, as_tensor\n",
        "from torch.utils.data import Dataset, DataLoader\n",
        "import torch.nn.functional as F\n",
        "from torch.optim import lr_scheduler\n",
        "from torch.nn.init import *\n",
        "from torchvision import transforms, utils, datasets, models\n",
        "#from models.inception_resnet_v1 import InceptionResnetV1import cv2\n",
        "import cv2\n",
        "from PIL import Image\n",
        "from pdb import set_trace\n",
        "import time\n",
        "#import copyfrom pathlib import Path\n",
        "import os\n",
        "import sys\n",
        "import matplotlib.pyplot as plt\n",
        "import matplotlib.animation as animation\n",
        "from skimage import io, transform\n",
        "from tqdm import trange, tqdm\n",
        "import csv\n",
        "import glob\n",
        "#import dlib\n",
        "import pandas as pd\n",
        "import numpy as np\n",
        "\n",
        "%matplotlib inline\n",
        "import matplotlib.pyplot as plt"
      ],
      "execution_count": 4,
      "outputs": []
    },
    {
      "cell_type": "code",
      "metadata": {
        "id": "3mxG2CUEpAVF",
        "colab_type": "code",
        "colab": {}
      },
      "source": [
        "!cp '/content/drive/My Drive/eva4_phase2_datasets/data_after_mtcnn.zip' ."
      ],
      "execution_count": 5,
      "outputs": []
    },
    {
      "cell_type": "code",
      "metadata": {
        "id": "fvFVEa8PpOd-",
        "colab_type": "code",
        "colab": {}
      },
      "source": [
        "!unzip -qq data_after_mtcnn.zip"
      ],
      "execution_count": 6,
      "outputs": []
    },
    {
      "cell_type": "code",
      "metadata": {
        "id": "yAF-x5YOpn3e",
        "colab_type": "code",
        "colab": {
          "base_uri": "https://localhost:8080/",
          "height": 35
        },
        "outputId": "e454d601-7103-4dc3-f035-98656216008a"
      },
      "source": [
        "!ls data"
      ],
      "execution_count": 7,
      "outputs": [
        {
          "output_type": "stream",
          "text": [
            "test_me\n"
          ],
          "name": "stdout"
        }
      ]
    },
    {
      "cell_type": "code",
      "metadata": {
        "id": "sEXNpMaGnHQl",
        "colab_type": "code",
        "colab": {
          "base_uri": "https://localhost:8080/",
          "height": 199
        },
        "outputId": "db5d989a-5a6e-41eb-da09-7e9e4881278e"
      },
      "source": [
        "data_transforms = {\n",
        "    'train': transforms.Compose([\n",
        "        transforms.Resize(160),\n",
        "        transforms.RandomCrop(160),\n",
        "        transforms.RandomHorizontalFlip(),\n",
        "        transforms.ToTensor(),\n",
        "        transforms.Normalize([0.485, 0.456, 0.406], [0.229, 0.224, 0.225])\n",
        "    ]),\n",
        "    'val': transforms.Compose([\n",
        "        transforms.Resize(160),\n",
        "        transforms.RandomCrop(160),\n",
        "        transforms.ToTensor(),\n",
        "        transforms.Normalize([0.485, 0.456, 0.406], [0.229, 0.224, 0.225])\n",
        "    ]),\n",
        "}\n",
        "data_dir = '/content/data/test_me'\n",
        "image_datasets = {x: datasets.ImageFolder(os.path.join(data_dir, x),\n",
        "                                          data_transforms[x])\n",
        "                  for x in ['train', 'val']}\n",
        "dataloaders = {x: torch.utils.data.DataLoader(image_datasets[x],\n",
        "                                              batch_size=8, \n",
        "                                             shuffle=True)\n",
        "              for x in ['train', 'val']}\n",
        "dataset_sizes = {x: len(image_datasets[x]) for x in ['train','val']}\n",
        "class_names = image_datasets['train'].classes\n",
        "class_names"
      ],
      "execution_count": 8,
      "outputs": [
        {
          "output_type": "execute_result",
          "data": {
            "text/plain": [
              "['Amitav',\n",
              " 'Ananya',\n",
              " 'AnilKapoor',\n",
              " 'BillGates',\n",
              " 'ElonMusk',\n",
              " 'LaluYadav',\n",
              " 'LionelMessi',\n",
              " 'MichaelJordan',\n",
              " 'Obama',\n",
              " 'TomHanks']"
            ]
          },
          "metadata": {
            "tags": []
          },
          "execution_count": 8
        }
      ]
    },
    {
      "cell_type": "code",
      "metadata": {
        "id": "Bdbryh6PnHQx",
        "colab_type": "code",
        "colab": {
          "base_uri": "https://localhost:8080/",
          "height": 106
        },
        "outputId": "1f22ca61-4cd0-4139-a5f8-bc0946b731d4"
      },
      "source": [
        "def imshow(inp, title=None):\n",
        "    \"\"\"Imshow for Tensor.\"\"\"\n",
        "    inp = inp.numpy().transpose((1, 2, 0))\n",
        "    mean = np.array([0.485, 0.456, 0.406])\n",
        "    std = np.array([0.229, 0.224, 0.225])\n",
        "    inp = std * inp + mean\n",
        "    inp = np.clip(inp, 0, 1)\n",
        "    plt.imshow(inp)\n",
        "    if title is not None:\n",
        "        plt.title(title)\n",
        "    plt.pause(0.001)  # pause a bit so that plots are updated# Get a batch of training data\n",
        "inputs, classes = next(iter(dataloaders['train']))# Make a grid from batch\n",
        "out = utils.make_grid(inputs)\n",
        "imshow(out, title=[class_names[x] for x in classes])"
      ],
      "execution_count": 9,
      "outputs": [
        {
          "output_type": "display_data",
          "data": {
            "image/png": "[encoded data removed]",
            "text/plain": [
              "<Figure size 432x288 with 1 Axes>"
            ]
          },
          "metadata": {
            "tags": [],
            "needs_background": "light"
          }
        }
      ]
    },
    {
      "cell_type": "code",
      "metadata": {
        "id": "UWVR1vLCnHQ3",
        "colab_type": "code",
        "colab": {
          "base_uri": "https://localhost:8080/",
          "height": 35
        },
        "outputId": "ef74c9ae-1214-464f-e7ec-4af7b9cf3209"
      },
      "source": [
        "use_cuda = torch.cuda.is_available()\n",
        "print(\"use_cuda: \", use_cuda)"
      ],
      "execution_count": 10,
      "outputs": [
        {
          "output_type": "stream",
          "text": [
            "use_cuda:  True\n"
          ],
          "name": "stdout"
        }
      ]
    },
    {
      "cell_type": "code",
      "metadata": {
        "id": "cNDj97P8nHQ9",
        "colab_type": "code",
        "colab": {}
      },
      "source": [
        "device = torch.device(\"cuda\" if use_cuda else \"cpu\")"
      ],
      "execution_count": 11,
      "outputs": []
    },
    {
      "cell_type": "code",
      "metadata": {
        "id": "UkWrbXeTnHRD",
        "colab_type": "code",
        "colab": {
          "base_uri": "https://localhost:8080/",
          "height": 310
        },
        "outputId": "f728a6a7-41d6-4dc6-8793-075275ccfbd0"
      },
      "source": [
        "! pip install facenet-pytorch"
      ],
      "execution_count": 12,
      "outputs": [
        {
          "output_type": "stream",
          "text": [
            "Collecting facenet-pytorch\n",
            "\u001b[?25l  Downloading https://files.pythonhosted.org/packages/5b/69/8639b8c090c22bf1a83bfc120b831e8f41b6819e257e5c879aa0ec42b417/facenet_pytorch-2.3.1-py3-none-any.whl (1.9MB)\n",
            "\r\u001b[K     |▏                               | 10kB 20.5MB/s eta 0:00:01\r\u001b[K     |▍                               | 20kB 6.4MB/s eta 0:00:01\r\u001b[K     |▌                               | 30kB 7.7MB/s eta 0:00:01\r\u001b[K     |▊                               | 40kB 8.2MB/s eta 0:00:01\r\u001b[K     |▉                               | 51kB 6.9MB/s eta 0:00:01\r\u001b[K     |█                               | 61kB 7.4MB/s eta 0:00:01\r\u001b[K     |█▏                              | 71kB 8.0MB/s eta 0:00:01\r\u001b[K     |█▍                              | 81kB 8.5MB/s eta 0:00:01\r\u001b[K     |█▋                              | 92kB 8.8MB/s eta 0:00:01\r\u001b[K     |█▊                              | 102kB 9.1MB/s eta 0:00:01\r\u001b[K     |██                              | 112kB 9.1MB/s eta 0:00:01\r\u001b[K     |██                              | 122kB 9.1MB/s eta 0:00:01\r\u001b[K     |██▎                             | 133kB 9.1MB/s eta 0:00:01\r\u001b[K     |██▍                             | 143kB 9.1MB/s eta 0:00:01\r\u001b[K     |██▋                             | 153kB 9.1MB/s eta 0:00:01\r\u001b[K     |██▉                             | 163kB 9.1MB/s eta 0:00:01\r\u001b[K     |███                             | 174kB 9.1MB/s eta 0:00:01\r\u001b[K     |███▏                            | 184kB 9.1MB/s eta 0:00:01\r\u001b[K     |███▎                            | 194kB 9.1MB/s eta 0:00:01\r\u001b[K     |███▌                            | 204kB 9.1MB/s eta 0:00:01\r\u001b[K     |███▋                            | 215kB 9.1MB/s eta 0:00:01\r\u001b[K     |███▉                            | 225kB 9.1MB/s eta 0:00:01\r\u001b[K     |████                            | 235kB 9.1MB/s eta 0:00:01\r\u001b[K     |████▏                           | 245kB 9.1MB/s eta 0:00:01\r\u001b[K     |████▍                           | 256kB 9.1MB/s eta 0:00:01\r\u001b[K     |████▌                           | 266kB 9.1MB/s eta 0:00:01\r\u001b[K     |████▊                           | 276kB 9.1MB/s eta 0:00:01\r\u001b[K     |████▉                           | 286kB 9.1MB/s eta 0:00:01\r\u001b[K     |█████                           | 296kB 9.1MB/s eta 0:00:01\r\u001b[K     |█████▎                          | 307kB 9.1MB/s eta 0:00:01\r\u001b[K     |█████▍                          | 317kB 9.1MB/s eta 0:00:01\r\u001b[K     |█████▋                          | 327kB 9.1MB/s eta 0:00:01\r\u001b[K     |█████▊                          | 337kB 9.1MB/s eta 0:00:01\r\u001b[K     |██████                          | 348kB 9.1MB/s eta 0:00:01\r\u001b[K     |██████                          | 358kB 9.1MB/s eta 0:00:01\r\u001b[K     |██████▎                         | 368kB 9.1MB/s eta 0:00:01\r\u001b[K     |██████▍                         | 378kB 9.1MB/s eta 0:00:01\r\u001b[K     |██████▋                         | 389kB 9.1MB/s eta 0:00:01\r\u001b[K     |██████▉                         | 399kB 9.1MB/s eta 0:00:01\r\u001b[K     |███████                         | 409kB 9.1MB/s eta 0:00:01\r\u001b[K     |███████▏                        | 419kB 9.1MB/s eta 0:00:01\r\u001b[K     |███████▎                        | 430kB 9.1MB/s eta 0:00:01\r\u001b[K     |███████▌                        | 440kB 9.1MB/s eta 0:00:01\r\u001b[K     |███████▋                        | 450kB 9.1MB/s eta 0:00:01\r\u001b[K     |███████▉                        | 460kB 9.1MB/s eta 0:00:01\r\u001b[K     |████████                        | 471kB 9.1MB/s eta 0:00:01\r\u001b[K     |████████▏                       | 481kB 9.1MB/s eta 0:00:01\r\u001b[K     |████████▍                       | 491kB 9.1MB/s eta 0:00:01\r\u001b[K     |████████▌                       | 501kB 9.1MB/s eta 0:00:01\r\u001b[K     |████████▊                       | 512kB 9.1MB/s eta 0:00:01\r\u001b[K     |████████▉                       | 522kB 9.1MB/s eta 0:00:01\r\u001b[K     |█████████                       | 532kB 9.1MB/s eta 0:00:01\r\u001b[K     |█████████▎                      | 542kB 9.1MB/s eta 0:00:01\r\u001b[K     |█████████▍                      | 552kB 9.1MB/s eta 0:00:01\r\u001b[K     |█████████▋                      | 563kB 9.1MB/s eta 0:00:01\r\u001b[K     |█████████▊                      | 573kB 9.1MB/s eta 0:00:01\r\u001b[K     |██████████                      | 583kB 9.1MB/s eta 0:00:01\r\u001b[K     |██████████                      | 593kB 9.1MB/s eta 0:00:01\r\u001b[K     |██████████▎                     | 604kB 9.1MB/s eta 0:00:01\r\u001b[K     |██████████▌                     | 614kB 9.1MB/s eta 0:00:01\r\u001b[K     |██████████▋                     | 624kB 9.1MB/s eta 0:00:01\r\u001b[K     |██████████▉                     | 634kB 9.1MB/s eta 0:00:01\r\u001b[K     |███████████                     | 645kB 9.1MB/s eta 0:00:01\r\u001b[K     |███████████▏                    | 655kB 9.1MB/s eta 0:00:01\r\u001b[K     |███████████▎                    | 665kB 9.1MB/s eta 0:00:01\r\u001b[K     |███████████▌                    | 675kB 9.1MB/s eta 0:00:01\r\u001b[K     |███████████▊                    | 686kB 9.1MB/s eta 0:00:01\r\u001b[K     |███████████▉                    | 696kB 9.1MB/s eta 0:00:01\r\u001b[K     |████████████                    | 706kB 9.1MB/s eta 0:00:01\r\u001b[K     |████████████▏                   | 716kB 9.1MB/s eta 0:00:01\r\u001b[K     |████████████▍                   | 727kB 9.1MB/s eta 0:00:01\r\u001b[K     |████████████▌                   | 737kB 9.1MB/s eta 0:00:01\r\u001b[K     |████████████▊                   | 747kB 9.1MB/s eta 0:00:01\r\u001b[K     |████████████▉                   | 757kB 9.1MB/s eta 0:00:01\r\u001b[K     |█████████████                   | 768kB 9.1MB/s eta 0:00:01\r\u001b[K     |█████████████▎                  | 778kB 9.1MB/s eta 0:00:01\r\u001b[K     |█████████████▍                  | 788kB 9.1MB/s eta 0:00:01\r\u001b[K     |█████████████▋                  | 798kB 9.1MB/s eta 0:00:01\r\u001b[K     |█████████████▊                  | 808kB 9.1MB/s eta 0:00:01\r\u001b[K     |██████████████                  | 819kB 9.1MB/s eta 0:00:01\r\u001b[K     |██████████████                  | 829kB 9.1MB/s eta 0:00:01\r\u001b[K     |██████████████▎                 | 839kB 9.1MB/s eta 0:00:01\r\u001b[K     |██████████████▌                 | 849kB 9.1MB/s eta 0:00:01\r\u001b[K     |██████████████▋                 | 860kB 9.1MB/s eta 0:00:01\r\u001b[K     |██████████████▉                 | 870kB 9.1MB/s eta 0:00:01\r\u001b[K     |███████████████                 | 880kB 9.1MB/s eta 0:00:01\r\u001b[K     |███████████████▏                | 890kB 9.1MB/s eta 0:00:01\r\u001b[K     |███████████████▎                | 901kB 9.1MB/s eta 0:00:01\r\u001b[K     |███████████████▌                | 911kB 9.1MB/s eta 0:00:01\r\u001b[K     |███████████████▊                | 921kB 9.1MB/s eta 0:00:01\r\u001b[K     |███████████████▉                | 931kB 9.1MB/s eta 0:00:01\r\u001b[K     |████████████████                | 942kB 9.1MB/s eta 0:00:01\r\u001b[K     |████████████████▏               | 952kB 9.1MB/s eta 0:00:01\r\u001b[K     |████████████████▍               | 962kB 9.1MB/s eta 0:00:01\r\u001b[K     |████████████████▌               | 972kB 9.1MB/s eta 0:00:01\r\u001b[K     |████████████████▊               | 983kB 9.1MB/s eta 0:00:01\r\u001b[K     |█████████████████               | 993kB 9.1MB/s eta 0:00:01\r\u001b[K     |█████████████████               | 1.0MB 9.1MB/s eta 0:00:01\r\u001b[K     |█████████████████▎              | 1.0MB 9.1MB/s eta 0:00:01\r\u001b[K     |█████████████████▍              | 1.0MB 9.1MB/s eta 0:00:01\r\u001b[K     |█████████████████▋              | 1.0MB 9.1MB/s eta 0:00:01\r\u001b[K     |█████████████████▊              | 1.0MB 9.1MB/s eta 0:00:01\r\u001b[K     |██████████████████              | 1.1MB 9.1MB/s eta 0:00:01\r\u001b[K     |██████████████████              | 1.1MB 9.1MB/s eta 0:00:01\r\u001b[K     |██████████████████▎             | 1.1MB 9.1MB/s eta 0:00:01\r\u001b[K     |██████████████████▌             | 1.1MB 9.1MB/s eta 0:00:01\r\u001b[K     |██████████████████▋             | 1.1MB 9.1MB/s eta 0:00:01\r\u001b[K     |██████████████████▉             | 1.1MB 9.1MB/s eta 0:00:01\r\u001b[K     |███████████████████             | 1.1MB 9.1MB/s eta 0:00:01\r\u001b[K     |███████████████████▏            | 1.1MB 9.1MB/s eta 0:00:01\r\u001b[K     |███████████████████▎            | 1.1MB 9.1MB/s eta 0:00:01\r\u001b[K     |███████████████████▌            | 1.1MB 9.1MB/s eta 0:00:01\r\u001b[K     |███████████████████▊            | 1.2MB 9.1MB/s eta 0:00:01\r\u001b[K     |███████████████████▉            | 1.2MB 9.1MB/s eta 0:00:01\r\u001b[K     |████████████████████            | 1.2MB 9.1MB/s eta 0:00:01\r\u001b[K     |████████████████████▏           | 1.2MB 9.1MB/s eta 0:00:01\r\u001b[K     |████████████████████▍           | 1.2MB 9.1MB/s eta 0:00:01\r\u001b[K     |████████████████████▌           | 1.2MB 9.1MB/s eta 0:00:01\r\u001b[K     |████████████████████▊           | 1.2MB 9.1MB/s eta 0:00:01\r\u001b[K     |█████████████████████           | 1.2MB 9.1MB/s eta 0:00:01\r\u001b[K     |█████████████████████           | 1.2MB 9.1MB/s eta 0:00:01\r\u001b[K     |█████████████████████▎          | 1.2MB 9.1MB/s eta 0:00:01\r\u001b[K     |█████████████████████▍          | 1.3MB 9.1MB/s eta 0:00:01\r\u001b[K     |█████████████████████▋          | 1.3MB 9.1MB/s eta 0:00:01\r\u001b[K     |█████████████████████▊          | 1.3MB 9.1MB/s eta 0:00:01\r\u001b[K     |██████████████████████          | 1.3MB 9.1MB/s eta 0:00:01\r\u001b[K     |██████████████████████▏         | 1.3MB 9.1MB/s eta 0:00:01\r\u001b[K     |██████████████████████▎         | 1.3MB 9.1MB/s eta 0:00:01\r\u001b[K     |██████████████████████▌         | 1.3MB 9.1MB/s eta 0:00:01\r\u001b[K     |██████████████████████▋         | 1.3MB 9.1MB/s eta 0:00:01\r\u001b[K     |██████████████████████▉         | 1.3MB 9.1MB/s eta 0:00:01\r\u001b[K     |███████████████████████         | 1.4MB 9.1MB/s eta 0:00:01\r\u001b[K     |███████████████████████▏        | 1.4MB 9.1MB/s eta 0:00:01\r\u001b[K     |███████████████████████▍        | 1.4MB 9.1MB/s eta 0:00:01\r\u001b[K     |███████████████████████▌        | 1.4MB 9.1MB/s eta 0:00:01\r\u001b[K     |███████████████████████▊        | 1.4MB 9.1MB/s eta 0:00:01\r\u001b[K     |███████████████████████▉        | 1.4MB 9.1MB/s eta 0:00:01\r\u001b[K     |████████████████████████        | 1.4MB 9.1MB/s eta 0:00:01\r\u001b[K     |████████████████████████▏       | 1.4MB 9.1MB/s eta 0:00:01\r\u001b[K     |████████████████████████▍       | 1.4MB 9.1MB/s eta 0:00:01\r\u001b[K     |████████████████████████▌       | 1.4MB 9.1MB/s eta 0:00:01\r\u001b[K     |████████████████████████▊       | 1.5MB 9.1MB/s eta 0:00:01\r\u001b[K     |█████████████████████████       | 1.5MB 9.1MB/s eta 0:00:01\r\u001b[K     |█████████████████████████       | 1.5MB 9.1MB/s eta 0:00:01\r\u001b[K     |█████████████████████████▎      | 1.5MB 9.1MB/s eta 0:00:01\r\u001b[K     |█████████████████████████▍      | 1.5MB 9.1MB/s eta 0:00:01\r\u001b[K     |█████████████████████████▋      | 1.5MB 9.1MB/s eta 0:00:01\r\u001b[K     |█████████████████████████▊      | 1.5MB 9.1MB/s eta 0:00:01\r\u001b[K     |██████████████████████████      | 1.5MB 9.1MB/s eta 0:00:01\r\u001b[K     |██████████████████████████▏     | 1.5MB 9.1MB/s eta 0:00:01\r\u001b[K     |██████████████████████████▎     | 1.5MB 9.1MB/s eta 0:00:01\r\u001b[K     |██████████████████████████▌     | 1.6MB 9.1MB/s eta 0:00:01\r\u001b[K     |██████████████████████████▋     | 1.6MB 9.1MB/s eta 0:00:01\r\u001b[K     |██████████████████████████▉     | 1.6MB 9.1MB/s eta 0:00:01\r\u001b[K     |███████████████████████████     | 1.6MB 9.1MB/s eta 0:00:01\r\u001b[K     |███████████████████████████▏    | 1.6MB 9.1MB/s eta 0:00:01\r\u001b[K     |███████████████████████████▍    | 1.6MB 9.1MB/s eta 0:00:01\r\u001b[K     |███████████████████████████▌    | 1.6MB 9.1MB/s eta 0:00:01\r\u001b[K     |███████████████████████████▊    | 1.6MB 9.1MB/s eta 0:00:01\r\u001b[K     |███████████████████████████▉    | 1.6MB 9.1MB/s eta 0:00:01\r\u001b[K     |████████████████████████████    | 1.6MB 9.1MB/s eta 0:00:01\r\u001b[K     |████████████████████████████▏   | 1.7MB 9.1MB/s eta 0:00:01\r\u001b[K     |████████████████████████████▍   | 1.7MB 9.1MB/s eta 0:00:01\r\u001b[K     |████████████████████████████▋   | 1.7MB 9.1MB/s eta 0:00:01\r\u001b[K     |████████████████████████████▊   | 1.7MB 9.1MB/s eta 0:00:01\r\u001b[K     |█████████████████████████████   | 1.7MB 9.1MB/s eta 0:00:01\r\u001b[K     |█████████████████████████████   | 1.7MB 9.1MB/s eta 0:00:01\r\u001b[K     |█████████████████████████████▎  | 1.7MB 9.1MB/s eta 0:00:01\r\u001b[K     |█████████████████████████████▍  | 1.7MB 9.1MB/s eta 0:00:01\r\u001b[K     |█████████████████████████████▋  | 1.7MB 9.1MB/s eta 0:00:01\r\u001b[K     |█████████████████████████████▉  | 1.8MB 9.1MB/s eta 0:00:01\r\u001b[K     |██████████████████████████████  | 1.8MB 9.1MB/s eta 0:00:01\r\u001b[K     |██████████████████████████████▏ | 1.8MB 9.1MB/s eta 0:00:01\r\u001b[K     |██████████████████████████████▎ | 1.8MB 9.1MB/s eta 0:00:01\r\u001b[K     |██████████████████████████████▌ | 1.8MB 9.1MB/s eta 0:00:01\r\u001b[K     |██████████████████████████████▋ | 1.8MB 9.1MB/s eta 0:00:01\r\u001b[K     |██████████████████████████████▉ | 1.8MB 9.1MB/s eta 0:00:01\r\u001b[K     |███████████████████████████████ | 1.8MB 9.1MB/s eta 0:00:01\r\u001b[K     |███████████████████████████████▏| 1.8MB 9.1MB/s eta 0:00:01\r\u001b[K     |███████████████████████████████▍| 1.8MB 9.1MB/s eta 0:00:01\r\u001b[K     |███████████████████████████████▌| 1.9MB 9.1MB/s eta 0:00:01\r\u001b[K     |███████████████████████████████▊| 1.9MB 9.1MB/s eta 0:00:01\r\u001b[K     |███████████████████████████████▉| 1.9MB 9.1MB/s eta 0:00:01\r\u001b[K     |████████████████████████████████| 1.9MB 9.1MB/s \n",
            "\u001b[?25hRequirement already satisfied: pillow in /usr/local/lib/python3.6/dist-packages (from facenet-pytorch) (7.0.0)\n",
            "Requirement already satisfied: requests in /usr/local/lib/python3.6/dist-packages (from facenet-pytorch) (2.23.0)\n",
            "Requirement already satisfied: torchvision in /usr/local/lib/python3.6/dist-packages (from facenet-pytorch) (0.6.1+cu92)\n",
            "Requirement already satisfied: numpy in /usr/local/lib/python3.6/dist-packages (from facenet-pytorch) (1.18.5)\n",
            "Requirement already satisfied: chardet<4,>=3.0.2 in /usr/local/lib/python3.6/dist-packages (from requests->facenet-pytorch) (3.0.4)\n",
            "Requirement already satisfied: certifi>=2017.4.17 in /usr/local/lib/python3.6/dist-packages (from requests->facenet-pytorch) (2020.6.20)\n",
            "Requirement already satisfied: idna<3,>=2.5 in /usr/local/lib/python3.6/dist-packages (from requests->facenet-pytorch) (2.10)\n",
            "Requirement already satisfied: urllib3!=1.25.0,!=1.25.1,<1.26,>=1.21.1 in /usr/local/lib/python3.6/dist-packages (from requests->facenet-pytorch) (1.24.3)\n",
            "Requirement already satisfied: torch==1.5.1 in /usr/local/lib/python3.6/dist-packages (from torchvision->facenet-pytorch) (1.5.1+cu92)\n",
            "Requirement already satisfied: future in /usr/local/lib/python3.6/dist-packages (from torch==1.5.1->torchvision->facenet-pytorch) (0.16.0)\n",
            "Installing collected packages: facenet-pytorch\n",
            "Successfully installed facenet-pytorch-2.3.1\n"
          ],
          "name": "stdout"
        }
      ]
    },
    {
      "cell_type": "code",
      "metadata": {
        "id": "Q6EaSZhcnHRK",
        "colab_type": "code",
        "colab": {
          "base_uri": "https://localhost:8080/",
          "height": 67,
          "referenced_widgets": [
            "581ee01b23d146a0adf6b49831454ce1",
            "3b6813591ee84bb7b96c8686868f7d7b",
            "1cb2f626c9954bff8f4236e1f871b6e5",
            "7e917ebdff6441e6bb3ce05ed6bcf510",
            "cdf63e81cd05412cabb43c3b19d16f52",
            "eace41ec2436484db15f244f3dd43552",
            "2efee737d22342e884e86ef318a36c52",
            "549fffde2f724fdda8600383115cb91b"
          ]
        },
        "outputId": "5abb632a-79c6-42a8-ccfc-681cc08f0680"
      },
      "source": [
        "from facenet_pytorch import  InceptionResnetV1\n",
        "model_ft = InceptionResnetV1(pretrained='vggface2', classify=False, num_classes = len(class_names))"
      ],
      "execution_count": 13,
      "outputs": [
        {
          "output_type": "display_data",
          "data": {
            "application/vnd.jupyter.widget-view+json": {
              "model_id": "581ee01b23d146a0adf6b49831454ce1",
              "version_minor": 0,
              "version_major": 2
            },
            "text/plain": [
              "HBox(children=(FloatProgress(value=0.0, max=111898327.0), HTML(value='')))"
            ]
          },
          "metadata": {
            "tags": []
          }
        },
        {
          "output_type": "stream",
          "text": [
            "\n"
          ],
          "name": "stdout"
        }
      ]
    },
    {
      "cell_type": "code",
      "metadata": {
        "id": "kL5csQG9nHRO",
        "colab_type": "code",
        "colab": {
          "base_uri": "https://localhost:8080/",
          "height": 563
        },
        "outputId": "2357d36a-825a-4c87-86d9-1e1530bfbca2"
      },
      "source": [
        "list(model_ft.children())[-6:]"
      ],
      "execution_count": 14,
      "outputs": [
        {
          "output_type": "execute_result",
          "data": {
            "text/plain": [
              "[Block8(\n",
              "   (branch0): BasicConv2d(\n",
              "     (conv): Conv2d(1792, 192, kernel_size=(1, 1), stride=(1, 1), bias=False)\n",
              "     (bn): BatchNorm2d(192, eps=0.001, momentum=0.1, affine=True, track_running_stats=True)\n",
              "     (relu): ReLU()\n",
              "   )\n",
              "   (branch1): Sequential(\n",
              "     (0): BasicConv2d(\n",
              "       (conv): Conv2d(1792, 192, kernel_size=(1, 1), stride=(1, 1), bias=False)\n",
              "       (bn): BatchNorm2d(192, eps=0.001, momentum=0.1, affine=True, track_running_stats=True)\n",
              "       (relu): ReLU()\n",
              "     )\n",
              "     (1): BasicConv2d(\n",
              "       (conv): Conv2d(192, 192, kernel_size=(1, 3), stride=(1, 1), padding=(0, 1), bias=False)\n",
              "       (bn): BatchNorm2d(192, eps=0.001, momentum=0.1, affine=True, track_running_stats=True)\n",
              "       (relu): ReLU()\n",
              "     )\n",
              "     (2): BasicConv2d(\n",
              "       (conv): Conv2d(192, 192, kernel_size=(3, 1), stride=(1, 1), padding=(1, 0), bias=False)\n",
              "       (bn): BatchNorm2d(192, eps=0.001, momentum=0.1, affine=True, track_running_stats=True)\n",
              "       (relu): ReLU()\n",
              "     )\n",
              "   )\n",
              "   (conv2d): Conv2d(384, 1792, kernel_size=(1, 1), stride=(1, 1))\n",
              " ),\n",
              " AdaptiveAvgPool2d(output_size=1),\n",
              " Dropout(p=0.6, inplace=False),\n",
              " Linear(in_features=1792, out_features=512, bias=False),\n",
              " BatchNorm1d(512, eps=0.001, momentum=0.1, affine=True, track_running_stats=True),\n",
              " Linear(in_features=512, out_features=8631, bias=True)]"
            ]
          },
          "metadata": {
            "tags": []
          },
          "execution_count": 14
        }
      ]
    },
    {
      "cell_type": "code",
      "metadata": {
        "id": "P1EdrYYcnHRR",
        "colab_type": "code",
        "colab": {
          "base_uri": "https://localhost:8080/",
          "height": 108
        },
        "outputId": "31f0d268-f220-46d7-8c6c-cc72525139e5"
      },
      "source": [
        "layer_list = list(model_ft.children())[-5:] # all final layers\n",
        "layer_list"
      ],
      "execution_count": 15,
      "outputs": [
        {
          "output_type": "execute_result",
          "data": {
            "text/plain": [
              "[AdaptiveAvgPool2d(output_size=1),\n",
              " Dropout(p=0.6, inplace=False),\n",
              " Linear(in_features=1792, out_features=512, bias=False),\n",
              " BatchNorm1d(512, eps=0.001, momentum=0.1, affine=True, track_running_stats=True),\n",
              " Linear(in_features=512, out_features=8631, bias=True)]"
            ]
          },
          "metadata": {
            "tags": []
          },
          "execution_count": 15
        }
      ]
    },
    {
      "cell_type": "code",
      "metadata": {
        "id": "MjuOqCqanHRX",
        "colab_type": "code",
        "colab": {}
      },
      "source": [
        "model_ft = nn.Sequential(*list(model_ft.children())[:-5])"
      ],
      "execution_count": 16,
      "outputs": []
    },
    {
      "cell_type": "code",
      "metadata": {
        "id": "QrwdCISanHRc",
        "colab_type": "code",
        "colab": {}
      },
      "source": [
        "for param in model_ft.parameters():\n",
        "    param.requires_grad = False"
      ],
      "execution_count": 17,
      "outputs": []
    },
    {
      "cell_type": "code",
      "metadata": {
        "id": "mkRrpdo-nHRh",
        "colab_type": "code",
        "colab": {}
      },
      "source": [
        "class Flatten(nn.Module):\n",
        "    def __init__(self):\n",
        "        super(Flatten, self).__init__()\n",
        "        \n",
        "    def forward(self, x):\n",
        "        x = x.view(x.size(0), -1)\n",
        "        return x\n",
        "    \n",
        "class normalize(nn.Module):\n",
        "    def __init__(self):\n",
        "        super(normalize, self).__init__()\n",
        "        \n",
        "    def forward(self, x):\n",
        "        x = F.normalize(x, p=2, dim=1)\n",
        "        return x"
      ],
      "execution_count": 18,
      "outputs": []
    },
    {
      "cell_type": "code",
      "metadata": {
        "id": "gQM6n11MnHRm",
        "colab_type": "code",
        "colab": {}
      },
      "source": [
        "model_ft.avgpool_1a = nn.AdaptiveAvgPool2d(output_size=1)\n",
        "model_ft.last_linear = nn.Sequential(\n",
        "    Flatten(),\n",
        "    nn.Linear(in_features=1792, out_features=512, bias=False),\n",
        "    normalize()\n",
        ")\n",
        "model_ft.logits = nn.Linear(layer_list[4].in_features, len(class_names))\n",
        "model_ft.softmax = nn.Softmax(dim=1)\n",
        "model_ft = model_ft.to(device)\n",
        "criterion = nn.CrossEntropyLoss()# Observe that all parameters are being optimized\n",
        "optimizer_ft = optim.SGD(model_ft.parameters(), lr=1e-2, momentum=0.9)# Decay LR by a factor of *gamma* every *step_size* epochs\n",
        "exp_lr_scheduler = lr_scheduler.StepLR(optimizer_ft, step_size=50, gamma=0.1)"
      ],
      "execution_count": 19,
      "outputs": []
    },
    {
      "cell_type": "code",
      "metadata": {
        "id": "yVDI9iRgnHRs",
        "colab_type": "code",
        "colab": {}
      },
      "source": [
        "import copy\n",
        "def train_model(model, criterion, optimizer, scheduler,\n",
        "                num_epochs=25):\n",
        "    since = time.time()\n",
        "    FT_losses = []\n",
        "    best_model_wts = copy.deepcopy(model.state_dict())\n",
        "    best_acc = 0.0    \n",
        "    for epoch in range(num_epochs):\n",
        "        print('Epoch {}/{}'.format(epoch, num_epochs - 1))\n",
        "        print('-' * 10)    # Each epoch has a training and validation phase\n",
        "        for phase in ['train', 'val']:\n",
        "            if phase == 'train':\n",
        "                model.train()  # Set model to training mode\n",
        "            else:\n",
        "                 model.eval()   # Set model to evaluate mode         \n",
        "            running_loss = 0.0\n",
        "            running_corrects = 0            # Iterate over data.\n",
        "            for inputs, labels in dataloaders[phase]:\n",
        "                inputs = inputs.to(device)\n",
        "                labels = labels.to(device)                # zero the parameter gradients\n",
        "                optimizer.zero_grad()                # forward\n",
        "                # track history if only in train\n",
        "                with torch.set_grad_enabled(phase == 'train'):\n",
        "                    outputs = model(inputs)\n",
        "                    _, preds = torch.max(outputs, 1)\n",
        "                    loss = criterion(outputs, labels)                    # backward + optimize only if in training phase\n",
        "                    if phase == 'train':\n",
        "                        loss.backward()\n",
        "                        optimizer.step()\n",
        "                        scheduler.step()\n",
        "                \n",
        "                FT_losses.append(loss.item())\n",
        "                # statistics\n",
        "                running_loss += loss.item() * inputs.size(0)\n",
        "                running_corrects += torch.sum(preds == labels.data) \n",
        "            epoch_loss = running_loss / dataset_sizes[phase]\n",
        "            epoch_acc = running_corrects.double() / dataset_sizes[phase] \n",
        "            print('{} Loss: {:.4f} Acc: {:.4f}'.format(\n",
        "                    phase, epoch_loss, epoch_acc))            # deep copy the model\n",
        "            if phase == 'val' and epoch_acc > best_acc:\n",
        "                best_acc = epoch_acc\n",
        "                best_model_wts = copy.deepcopy(model.state_dict())    \n",
        "    time_elapsed = time.time() - since\n",
        "    print('Training complete in {:.0f}m {:.0f}s'.format(\n",
        "            time_elapsed // 60, time_elapsed % 60))\n",
        "    print('Best val Acc: {:4f}'.format(best_acc))    # load best model weights\n",
        "    model.load_state_dict(best_model_wts)\n",
        "    return model, FT_losses"
      ],
      "execution_count": 20,
      "outputs": []
    },
    {
      "cell_type": "code",
      "metadata": {
        "id": "0UghsHp-nHRw",
        "colab_type": "code",
        "colab": {
          "base_uri": "https://localhost:8080/",
          "height": 1000
        },
        "outputId": "0e96a715-1f42-4f3b-f1df-07ef92458220"
      },
      "source": [
        "model_ft, FT_losses = train_model(model_ft, criterion, optimizer_ft, exp_lr_scheduler, num_epochs=100)\n",
        "plt.figure(figsize=(10,5))\n",
        "plt.title(\"FRT Loss During Training\")\n",
        "plt.plot(FT_losses, label=\"FT loss\")\n",
        "plt.xlabel(\"iterations\")\n",
        "plt.ylabel(\"Loss\")\n",
        "plt.legend()\n",
        "plt.show()"
      ],
      "execution_count": 21,
      "outputs": [
        {
          "output_type": "stream",
          "text": [
            "Epoch 0/99\n",
            "----------\n",
            "train Loss: 2.3030 Acc: 0.1000\n",
            "val Loss: 2.3011 Acc: 0.2800\n",
            "Epoch 1/99\n",
            "----------\n",
            "train Loss: 2.2997 Acc: 0.3438\n",
            "val Loss: 2.2975 Acc: 0.6200\n",
            "Epoch 2/99\n",
            "----------\n",
            "train Loss: 2.2964 Acc: 0.6813\n",
            "val Loss: 2.2954 Acc: 0.7400\n",
            "Epoch 3/99\n",
            "----------\n",
            "train Loss: 2.2954 Acc: 0.7688\n",
            "val Loss: 2.2950 Acc: 0.8200\n",
            "Epoch 4/99\n",
            "----------\n",
            "train Loss: 2.2948 Acc: 0.7875\n",
            "val Loss: 2.2945 Acc: 0.8400\n",
            "Epoch 5/99\n",
            "----------\n",
            "train Loss: 2.2947 Acc: 0.8125\n",
            "val Loss: 2.2945 Acc: 0.8200\n",
            "Epoch 6/99\n",
            "----------\n",
            "train Loss: 2.2946 Acc: 0.7812\n",
            "val Loss: 2.2946 Acc: 0.8600\n",
            "Epoch 7/99\n",
            "----------\n",
            "train Loss: 2.2944 Acc: 0.8125\n",
            "val Loss: 2.2945 Acc: 0.8400\n",
            "Epoch 8/99\n",
            "----------\n",
            "train Loss: 2.2948 Acc: 0.7750\n",
            "val Loss: 2.2945 Acc: 0.8400\n",
            "Epoch 9/99\n",
            "----------\n",
            "train Loss: 2.2945 Acc: 0.8125\n",
            "val Loss: 2.2945 Acc: 0.8200\n",
            "Epoch 10/99\n",
            "----------\n",
            "train Loss: 2.2943 Acc: 0.8438\n",
            "val Loss: 2.2944 Acc: 0.8400\n",
            "Epoch 11/99\n",
            "----------\n",
            "train Loss: 2.2944 Acc: 0.8375\n",
            "val Loss: 2.2945 Acc: 0.8400\n",
            "Epoch 12/99\n",
            "----------\n",
            "train Loss: 2.2947 Acc: 0.7938\n",
            "val Loss: 2.2944 Acc: 0.8400\n",
            "Epoch 13/99\n",
            "----------\n",
            "train Loss: 2.2945 Acc: 0.8188\n",
            "val Loss: 2.2944 Acc: 0.8400\n",
            "Epoch 14/99\n",
            "----------\n",
            "train Loss: 2.2945 Acc: 0.8188\n",
            "val Loss: 2.2945 Acc: 0.8200\n",
            "Epoch 15/99\n",
            "----------\n",
            "train Loss: 2.2942 Acc: 0.8188\n",
            "val Loss: 2.2944 Acc: 0.8400\n",
            "Epoch 16/99\n",
            "----------\n",
            "train Loss: 2.2946 Acc: 0.8125\n",
            "val Loss: 2.2945 Acc: 0.8400\n",
            "Epoch 17/99\n",
            "----------\n",
            "train Loss: 2.2945 Acc: 0.8375\n",
            "val Loss: 2.2944 Acc: 0.8200\n",
            "Epoch 18/99\n",
            "----------\n",
            "train Loss: 2.2945 Acc: 0.8125\n",
            "val Loss: 2.2944 Acc: 0.8200\n",
            "Epoch 19/99\n",
            "----------\n",
            "train Loss: 2.2946 Acc: 0.8375\n",
            "val Loss: 2.2945 Acc: 0.8400\n",
            "Epoch 20/99\n",
            "----------\n",
            "train Loss: 2.2946 Acc: 0.7750\n",
            "val Loss: 2.2945 Acc: 0.8200\n",
            "Epoch 21/99\n",
            "----------\n",
            "train Loss: 2.2945 Acc: 0.8250\n",
            "val Loss: 2.2945 Acc: 0.8400\n",
            "Epoch 22/99\n",
            "----------\n",
            "train Loss: 2.2945 Acc: 0.8188\n",
            "val Loss: 2.2944 Acc: 0.8600\n",
            "Epoch 23/99\n",
            "----------\n",
            "train Loss: 2.2943 Acc: 0.8313\n",
            "val Loss: 2.2945 Acc: 0.8400\n",
            "Epoch 24/99\n",
            "----------\n",
            "train Loss: 2.2944 Acc: 0.8250\n",
            "val Loss: 2.2944 Acc: 0.8400\n",
            "Epoch 25/99\n",
            "----------\n",
            "train Loss: 2.2947 Acc: 0.8188\n",
            "val Loss: 2.2945 Acc: 0.8400\n",
            "Epoch 26/99\n",
            "----------\n",
            "train Loss: 2.2942 Acc: 0.8563\n",
            "val Loss: 2.2946 Acc: 0.8200\n",
            "Epoch 27/99\n",
            "----------\n",
            "train Loss: 2.2945 Acc: 0.8000\n",
            "val Loss: 2.2945 Acc: 0.8400\n",
            "Epoch 28/99\n",
            "----------\n",
            "train Loss: 2.2946 Acc: 0.8000\n",
            "val Loss: 2.2945 Acc: 0.8200\n",
            "Epoch 29/99\n",
            "----------\n",
            "train Loss: 2.2944 Acc: 0.8063\n",
            "val Loss: 2.2945 Acc: 0.8200\n",
            "Epoch 30/99\n",
            "----------\n",
            "train Loss: 2.2946 Acc: 0.7625\n",
            "val Loss: 2.2944 Acc: 0.8200\n",
            "Epoch 31/99\n",
            "----------\n",
            "train Loss: 2.2944 Acc: 0.8375\n",
            "val Loss: 2.2944 Acc: 0.8400\n",
            "Epoch 32/99\n",
            "----------\n",
            "train Loss: 2.2947 Acc: 0.7875\n",
            "val Loss: 2.2945 Acc: 0.8000\n",
            "Epoch 33/99\n",
            "----------\n",
            "train Loss: 2.2943 Acc: 0.8625\n",
            "val Loss: 2.2945 Acc: 0.8400\n",
            "Epoch 34/99\n",
            "----------\n",
            "train Loss: 2.2944 Acc: 0.8313\n",
            "val Loss: 2.2945 Acc: 0.8400\n",
            "Epoch 35/99\n",
            "----------\n",
            "train Loss: 2.2946 Acc: 0.8063\n",
            "val Loss: 2.2944 Acc: 0.8400\n",
            "Epoch 36/99\n",
            "----------\n",
            "train Loss: 2.2945 Acc: 0.8125\n",
            "val Loss: 2.2944 Acc: 0.8600\n",
            "Epoch 37/99\n",
            "----------\n",
            "train Loss: 2.2945 Acc: 0.7938\n",
            "val Loss: 2.2945 Acc: 0.8400\n",
            "Epoch 38/99\n",
            "----------\n",
            "train Loss: 2.2943 Acc: 0.8313\n",
            "val Loss: 2.2944 Acc: 0.8400\n",
            "Epoch 39/99\n",
            "----------\n",
            "train Loss: 2.2945 Acc: 0.8500\n",
            "val Loss: 2.2945 Acc: 0.8400\n",
            "Epoch 40/99\n",
            "----------\n",
            "train Loss: 2.2945 Acc: 0.7812\n",
            "val Loss: 2.2945 Acc: 0.8600\n",
            "Epoch 41/99\n",
            "----------\n",
            "train Loss: 2.2942 Acc: 0.8438\n",
            "val Loss: 2.2945 Acc: 0.8400\n",
            "Epoch 42/99\n",
            "----------\n",
            "train Loss: 2.2945 Acc: 0.7875\n",
            "val Loss: 2.2945 Acc: 0.8400\n",
            "Epoch 43/99\n",
            "----------\n",
            "train Loss: 2.2948 Acc: 0.7625\n",
            "val Loss: 2.2944 Acc: 0.8200\n",
            "Epoch 44/99\n",
            "----------\n",
            "train Loss: 2.2947 Acc: 0.8000\n",
            "val Loss: 2.2944 Acc: 0.8400\n",
            "Epoch 45/99\n",
            "----------\n",
            "train Loss: 2.2945 Acc: 0.8250\n",
            "val Loss: 2.2945 Acc: 0.8200\n",
            "Epoch 46/99\n",
            "----------\n",
            "train Loss: 2.2949 Acc: 0.7875\n",
            "val Loss: 2.2944 Acc: 0.8400\n",
            "Epoch 47/99\n",
            "----------\n",
            "train Loss: 2.2947 Acc: 0.8125\n",
            "val Loss: 2.2945 Acc: 0.8400\n",
            "Epoch 48/99\n",
            "----------\n",
            "train Loss: 2.2944 Acc: 0.8000\n",
            "val Loss: 2.2945 Acc: 0.8000\n",
            "Epoch 49/99\n",
            "----------\n",
            "train Loss: 2.2945 Acc: 0.8000\n",
            "val Loss: 2.2945 Acc: 0.8200\n",
            "Epoch 50/99\n",
            "----------\n",
            "train Loss: 2.2943 Acc: 0.8125\n",
            "val Loss: 2.2945 Acc: 0.8200\n",
            "Epoch 51/99\n",
            "----------\n",
            "train Loss: 2.2948 Acc: 0.7938\n",
            "val Loss: 2.2944 Acc: 0.8000\n",
            "Epoch 52/99\n",
            "----------\n",
            "train Loss: 2.2945 Acc: 0.8438\n",
            "val Loss: 2.2944 Acc: 0.8400\n",
            "Epoch 53/99\n",
            "----------\n",
            "train Loss: 2.2946 Acc: 0.8375\n",
            "val Loss: 2.2944 Acc: 0.8600\n",
            "Epoch 54/99\n",
            "----------\n",
            "train Loss: 2.2942 Acc: 0.8688\n",
            "val Loss: 2.2945 Acc: 0.8200\n",
            "Epoch 55/99\n",
            "----------\n",
            "train Loss: 2.2945 Acc: 0.8250\n",
            "val Loss: 2.2944 Acc: 0.8400\n",
            "Epoch 56/99\n",
            "----------\n",
            "train Loss: 2.2945 Acc: 0.8000\n",
            "val Loss: 2.2944 Acc: 0.8400\n",
            "Epoch 57/99\n",
            "----------\n",
            "train Loss: 2.2945 Acc: 0.7938\n",
            "val Loss: 2.2945 Acc: 0.8400\n",
            "Epoch 58/99\n",
            "----------\n",
            "train Loss: 2.2946 Acc: 0.8000\n",
            "val Loss: 2.2945 Acc: 0.8200\n",
            "Epoch 59/99\n",
            "----------\n",
            "train Loss: 2.2946 Acc: 0.7875\n",
            "val Loss: 2.2945 Acc: 0.8400\n",
            "Epoch 60/99\n",
            "----------\n",
            "train Loss: 2.2946 Acc: 0.8250\n",
            "val Loss: 2.2945 Acc: 0.8400\n",
            "Epoch 61/99\n",
            "----------\n",
            "train Loss: 2.2943 Acc: 0.8188\n",
            "val Loss: 2.2945 Acc: 0.8400\n",
            "Epoch 62/99\n",
            "----------\n",
            "train Loss: 2.2944 Acc: 0.7750\n",
            "val Loss: 2.2944 Acc: 0.8400\n",
            "Epoch 63/99\n",
            "----------\n",
            "train Loss: 2.2945 Acc: 0.8125\n",
            "val Loss: 2.2944 Acc: 0.8600\n",
            "Epoch 64/99\n",
            "----------\n",
            "train Loss: 2.2943 Acc: 0.8500\n",
            "val Loss: 2.2944 Acc: 0.8400\n",
            "Epoch 65/99\n",
            "----------\n",
            "train Loss: 2.2946 Acc: 0.8125\n",
            "val Loss: 2.2945 Acc: 0.8400\n",
            "Epoch 66/99\n",
            "----------\n",
            "train Loss: 2.2943 Acc: 0.8250\n",
            "val Loss: 2.2944 Acc: 0.8400\n",
            "Epoch 67/99\n",
            "----------\n",
            "train Loss: 2.2944 Acc: 0.8063\n",
            "val Loss: 2.2945 Acc: 0.8200\n",
            "Epoch 68/99\n",
            "----------\n",
            "train Loss: 2.2946 Acc: 0.8125\n",
            "val Loss: 2.2944 Acc: 0.8400\n",
            "Epoch 69/99\n",
            "----------\n",
            "train Loss: 2.2945 Acc: 0.8188\n",
            "val Loss: 2.2944 Acc: 0.8400\n",
            "Epoch 70/99\n",
            "----------\n",
            "train Loss: 2.2943 Acc: 0.8313\n",
            "val Loss: 2.2945 Acc: 0.8200\n",
            "Epoch 71/99\n",
            "----------\n",
            "train Loss: 2.2944 Acc: 0.8313\n",
            "val Loss: 2.2945 Acc: 0.8200\n",
            "Epoch 72/99\n",
            "----------\n",
            "train Loss: 2.2944 Acc: 0.8000\n",
            "val Loss: 2.2945 Acc: 0.8200\n",
            "Epoch 73/99\n",
            "----------\n",
            "train Loss: 2.2943 Acc: 0.8375\n",
            "val Loss: 2.2944 Acc: 0.8400\n",
            "Epoch 74/99\n",
            "----------\n",
            "train Loss: 2.2946 Acc: 0.8063\n",
            "val Loss: 2.2944 Acc: 0.8200\n",
            "Epoch 75/99\n",
            "----------\n",
            "train Loss: 2.2946 Acc: 0.7938\n",
            "val Loss: 2.2945 Acc: 0.8200\n",
            "Epoch 76/99\n",
            "----------\n",
            "train Loss: 2.2944 Acc: 0.8063\n",
            "val Loss: 2.2945 Acc: 0.8400\n",
            "Epoch 77/99\n",
            "----------\n",
            "train Loss: 2.2943 Acc: 0.8125\n",
            "val Loss: 2.2944 Acc: 0.8400\n",
            "Epoch 78/99\n",
            "----------\n",
            "train Loss: 2.2946 Acc: 0.7625\n",
            "val Loss: 2.2945 Acc: 0.8400\n",
            "Epoch 79/99\n",
            "----------\n",
            "train Loss: 2.2945 Acc: 0.8000\n",
            "val Loss: 2.2944 Acc: 0.8600\n",
            "Epoch 80/99\n",
            "----------\n",
            "train Loss: 2.2943 Acc: 0.7938\n",
            "val Loss: 2.2945 Acc: 0.8400\n",
            "Epoch 81/99\n",
            "----------\n",
            "train Loss: 2.2945 Acc: 0.8188\n",
            "val Loss: 2.2945 Acc: 0.8400\n",
            "Epoch 82/99\n",
            "----------\n",
            "train Loss: 2.2946 Acc: 0.7750\n",
            "val Loss: 2.2945 Acc: 0.8400\n",
            "Epoch 83/99\n",
            "----------\n",
            "train Loss: 2.2947 Acc: 0.8063\n",
            "val Loss: 2.2944 Acc: 0.8800\n",
            "Epoch 84/99\n",
            "----------\n",
            "train Loss: 2.2943 Acc: 0.8313\n",
            "val Loss: 2.2944 Acc: 0.8600\n",
            "Epoch 85/99\n",
            "----------\n",
            "train Loss: 2.2945 Acc: 0.8313\n",
            "val Loss: 2.2944 Acc: 0.8600\n",
            "Epoch 86/99\n",
            "----------\n",
            "train Loss: 2.2946 Acc: 0.8188\n",
            "val Loss: 2.2944 Acc: 0.8400\n",
            "Epoch 87/99\n",
            "----------\n",
            "train Loss: 2.2945 Acc: 0.8063\n",
            "val Loss: 2.2944 Acc: 0.8400\n",
            "Epoch 88/99\n",
            "----------\n",
            "train Loss: 2.2947 Acc: 0.8313\n",
            "val Loss: 2.2945 Acc: 0.8400\n",
            "Epoch 89/99\n",
            "----------\n",
            "train Loss: 2.2946 Acc: 0.8063\n",
            "val Loss: 2.2945 Acc: 0.8000\n",
            "Epoch 90/99\n",
            "----------\n",
            "train Loss: 2.2944 Acc: 0.8250\n",
            "val Loss: 2.2945 Acc: 0.8200\n",
            "Epoch 91/99\n",
            "----------\n",
            "train Loss: 2.2945 Acc: 0.8125\n",
            "val Loss: 2.2944 Acc: 0.8600\n",
            "Epoch 92/99\n",
            "----------\n",
            "train Loss: 2.2945 Acc: 0.8375\n",
            "val Loss: 2.2945 Acc: 0.8400\n",
            "Epoch 93/99\n",
            "----------\n",
            "train Loss: 2.2943 Acc: 0.8313\n",
            "val Loss: 2.2945 Acc: 0.8200\n",
            "Epoch 94/99\n",
            "----------\n",
            "train Loss: 2.2943 Acc: 0.8188\n",
            "val Loss: 2.2944 Acc: 0.8600\n",
            "Epoch 95/99\n",
            "----------\n",
            "train Loss: 2.2946 Acc: 0.8125\n",
            "val Loss: 2.2945 Acc: 0.8400\n",
            "Epoch 96/99\n",
            "----------\n",
            "train Loss: 2.2944 Acc: 0.8188\n",
            "val Loss: 2.2944 Acc: 0.8400\n",
            "Epoch 97/99\n",
            "----------\n",
            "train Loss: 2.2944 Acc: 0.8188\n",
            "val Loss: 2.2945 Acc: 0.8200\n",
            "Epoch 98/99\n",
            "----------\n",
            "train Loss: 2.2945 Acc: 0.8063\n",
            "val Loss: 2.2945 Acc: 0.8400\n",
            "Epoch 99/99\n",
            "----------\n",
            "train Loss: 2.2943 Acc: 0.8313\n",
            "val Loss: 2.2945 Acc: 0.8600\n",
            "Training complete in 1m 46s\n",
            "Best val Acc: 0.880000\n"
          ],
          "name": "stdout"
        },
        {
          "output_type": "display_data",
          "data": {
            "image/png": "[encoded data removed]",
            "text/plain": [
              "<Figure size 720x360 with 1 Axes>"
            ]
          },
          "metadata": {
            "tags": [],
            "needs_background": "light"
          }
        }
      ]
    },
    {
      "cell_type": "code",
      "metadata": {
        "id": "_SsGr7gNnHR1",
        "colab_type": "code",
        "colab": {}
      },
      "source": [
        "MODEL_PATH = '/content/drive/My Drive/eva4_phase2_apis/model_facenet_latest.pt'\n",
        "model_cpu = model_ft.to('cpu')\n",
        "traced_model = torch.jit.trace(model_cpu, torch.randn(1,3, 224, 224))\n",
        "traced_model.save(MODEL_PATH)"
      ],
      "execution_count": 22,
      "outputs": []
    }
  ]
}